{
 "cells": [
  {
   "cell_type": "markdown",
   "metadata": {},
   "source": [
    "# Facebook Insights\n",
    "\n",
    "This is an assignment for PRO 316 - Social Media Data Analytics at Academy of Art University. A sample raw data of Facebook Insights are provided with questions to answered.\n",
    "\n",
    "The dataset provided, which are excel files with multiple tabs, have been restructured, aggregated and reformatted to csv files for ease of use. For this homework, I will only be focusing on the Key Metrics provided on the data sets which are lifetime metrics"
   ]
  },
  {
   "cell_type": "markdown",
   "metadata": {},
   "source": [
    "### Post Metric Definitions\n",
    "\n",
    "* **Post Total Reach**: The total number of people your Page post was served to. (Unique Users)  \n",
    "* **Post organic reach**: The number of people who saw your Page post in news feed or ticker, or on your Page's timeline. (Unique Users)  \n",
    "* **Post Paid Reach**: The number of people your advertised Page post was served to. (Unique Users)  \n",
    "* **Post Total Impressions**: The number of impressions of your Page post. (Total Count)  \n",
    "* **Post Organic Impressions**: The number of impressions of your post in News Feed or ticker or on your Page's Timeline. (Total Count)  \n",
    "* **Post Paid Impressions**: The number of impressions of your Page post in an Ad or Sponsored Story. (Total Count)  \n",
    "* **Engaged Users**: The number of people who clicked anywhere in your posts. (Unique Users)  \n",
    "* **Post Consumers**: The number of people who clicked anywhere in your post. (Unique Users)  \n",
    "* **Post Consumptions**: The number of clicks anywhere in your post. (Total Count)  \n",
    "* **Negative feedback**: The number of people who have given negative feedback to your post. (Unique Users)  \n",
    "* **Negative Feedback from Users**: The number of times people have given negative feedback to your post. (Total Count)  \n",
    "* **Post Impressions by people who have liked your Page**: The number of impressions of your Page post to people who have liked your Page. (Total Count)  \n",
    "* **Post reach by people who like your Page**: The number of people who saw your Page post because they've liked your Page (Unique Users)  \n",
    "* **Post Paid Impressions by people who have liked your Page**: The number of paid impressions of your Page post to people who have liked your Page. (Total Count)  \n",
    "* **Paid reach of a post by people who like your Page**: The number of people who like your Page and who saw your Page post in an ad or sponsored story. (Unique Users)  \n",
    "* **People who have liked your Page and engaged with your post**: The number of people who have liked your Page and clicked anywhere in your posts. (Unique Users)\n",
    "* **Organic watches at 95%** : The number of times your video was watched at 95% of its length without any paid promotion, including watches that skipped to this point. (Total Count)  \n",
    "* **Organic watches at 95%**: The number of times your video was watched at 95% of its length without any paid promotion, including watches that skipped to this point. (Unique Users)\n",
    "* **Paid watches at 95%** : The number of times your video was watched at 95% of its length after paid promotion, including watches that skipped to this point. (Total Count)  \n",
    "* **Paid watches at 95%**: The number of times your video was watched at 95% of its length after paid promotion, including watches that skipped to this point. (Unique Users)  \n",
    "* **Organic Video Views**: Number of times your video was viewed for more than 3 seconds without any paid promotion. (Total Count)  \n",
    "* **Organic Video Views**: Number of times your video was viewed for more than 3 seconds without any paid promotion. (Unique Users)\n",
    "* **Paid Video Views**: Number of times your video was viewed more than 3 seconds after paid promotion. (Total Count)  \n",
    "* **Paid Video Views**: Number of times your video was viewed more than 3 seconds after paid promotion. (Unique Users)  \n",
    "* **Average time video viewed**: Average time video viewed (Total Count)\n",
    "* **Video length**: Length of a video post (Total Count)"
   ]
  },
  {
   "cell_type": "markdown",
   "metadata": {},
   "source": [
    "Importing libraries"
   ]
  },
  {
   "cell_type": "code",
   "execution_count": 1,
   "metadata": {},
   "outputs": [],
   "source": [
    "import numpy as np\n",
    "import pandas as pd\n",
    "import matplotlib.pyplot as plt\n",
    "import seaborn as sns"
   ]
  },
  {
   "cell_type": "markdown",
   "metadata": {},
   "source": [
    "### Post Metrics\n",
    "For the following questions, I would be using the Post Key Metrics.\n",
    "\n",
    "* What type of content (videos, photos, etc.) seems to be performing the best on Facebook? How much better than other types of content?\n",
    "* What kind of content doesn't seem to perform well on Facebook? Back up your claim with numbers."
   ]
  },
  {
   "cell_type": "markdown",
   "metadata": {},
   "source": [
    "Loading, Cleaning and Exploring the data"
   ]
  },
  {
   "cell_type": "code",
   "execution_count": 35,
   "metadata": {},
   "outputs": [
    {
     "data": {
      "text/html": [
       "<div>\n",
       "<style scoped>\n",
       "    .dataframe tbody tr th:only-of-type {\n",
       "        vertical-align: middle;\n",
       "    }\n",
       "\n",
       "    .dataframe tbody tr th {\n",
       "        vertical-align: top;\n",
       "    }\n",
       "\n",
       "    .dataframe thead th {\n",
       "        text-align: right;\n",
       "    }\n",
       "</style>\n",
       "<table border=\"1\" class=\"dataframe\">\n",
       "  <thead>\n",
       "    <tr style=\"text-align: right;\">\n",
       "      <th></th>\n",
       "      <th>Type</th>\n",
       "      <th>Posted</th>\n",
       "      <th>Lifetime Post Total Reach</th>\n",
       "      <th>Lifetime Post organic reach</th>\n",
       "      <th>Lifetime Post Paid Reach</th>\n",
       "      <th>Lifetime Post Total Impressions</th>\n",
       "      <th>Lifetime Post Organic Impressions</th>\n",
       "      <th>Lifetime Post Paid Impressions</th>\n",
       "      <th>Lifetime Engaged Users</th>\n",
       "      <th>Lifetime Post Consumers</th>\n",
       "      <th>...</th>\n",
       "      <th>Lifetime Organic watches at 95%</th>\n",
       "      <th>Lifetime Organic watches at 95%.1</th>\n",
       "      <th>Lifetime Paid watches at 95%</th>\n",
       "      <th>Lifetime Paid watches at 95%.1</th>\n",
       "      <th>Lifetime Organic Video Views</th>\n",
       "      <th>Lifetime Organic Video Views.1</th>\n",
       "      <th>Lifetime Paid Video Views</th>\n",
       "      <th>Lifetime Paid Video Views.1</th>\n",
       "      <th>Lifetime Average time video viewed</th>\n",
       "      <th>Lifetime Video length</th>\n",
       "    </tr>\n",
       "  </thead>\n",
       "  <tbody>\n",
       "    <tr>\n",
       "      <th>0</th>\n",
       "      <td>Link</td>\n",
       "      <td>2/28/17 2:30 PM</td>\n",
       "      <td>939.0</td>\n",
       "      <td>939</td>\n",
       "      <td>0.0</td>\n",
       "      <td>1646.0</td>\n",
       "      <td>1646</td>\n",
       "      <td>0.0</td>\n",
       "      <td>13.0</td>\n",
       "      <td>8.0</td>\n",
       "      <td>...</td>\n",
       "      <td>0.0</td>\n",
       "      <td>0.0</td>\n",
       "      <td>0.0</td>\n",
       "      <td>0.0</td>\n",
       "      <td>0.0</td>\n",
       "      <td>0.0</td>\n",
       "      <td>0.0</td>\n",
       "      <td>0.0</td>\n",
       "      <td>0</td>\n",
       "      <td>0</td>\n",
       "    </tr>\n",
       "    <tr>\n",
       "      <th>1</th>\n",
       "      <td>Photo</td>\n",
       "      <td>2/28/17 12:02 PM</td>\n",
       "      <td>854.0</td>\n",
       "      <td>854</td>\n",
       "      <td>0.0</td>\n",
       "      <td>1397.0</td>\n",
       "      <td>1397</td>\n",
       "      <td>0.0</td>\n",
       "      <td>41.0</td>\n",
       "      <td>23.0</td>\n",
       "      <td>...</td>\n",
       "      <td>NaN</td>\n",
       "      <td>NaN</td>\n",
       "      <td>NaN</td>\n",
       "      <td>NaN</td>\n",
       "      <td>NaN</td>\n",
       "      <td>NaN</td>\n",
       "      <td>NaN</td>\n",
       "      <td>NaN</td>\n",
       "      <td>0</td>\n",
       "      <td>0</td>\n",
       "    </tr>\n",
       "    <tr>\n",
       "      <th>2</th>\n",
       "      <td>Photo</td>\n",
       "      <td>2/27/17 9:17 AM</td>\n",
       "      <td>2063.0</td>\n",
       "      <td>2063</td>\n",
       "      <td>0.0</td>\n",
       "      <td>3140.0</td>\n",
       "      <td>3140</td>\n",
       "      <td>0.0</td>\n",
       "      <td>97.0</td>\n",
       "      <td>46.0</td>\n",
       "      <td>...</td>\n",
       "      <td>NaN</td>\n",
       "      <td>NaN</td>\n",
       "      <td>NaN</td>\n",
       "      <td>NaN</td>\n",
       "      <td>NaN</td>\n",
       "      <td>NaN</td>\n",
       "      <td>NaN</td>\n",
       "      <td>NaN</td>\n",
       "      <td>0</td>\n",
       "      <td>0</td>\n",
       "    </tr>\n",
       "    <tr>\n",
       "      <th>3</th>\n",
       "      <td>Status</td>\n",
       "      <td>2/23/17 11:12 AM</td>\n",
       "      <td>9.0</td>\n",
       "      <td>9</td>\n",
       "      <td>0.0</td>\n",
       "      <td>16.0</td>\n",
       "      <td>16</td>\n",
       "      <td>0.0</td>\n",
       "      <td>2.0</td>\n",
       "      <td>2.0</td>\n",
       "      <td>...</td>\n",
       "      <td>NaN</td>\n",
       "      <td>NaN</td>\n",
       "      <td>NaN</td>\n",
       "      <td>NaN</td>\n",
       "      <td>NaN</td>\n",
       "      <td>NaN</td>\n",
       "      <td>NaN</td>\n",
       "      <td>NaN</td>\n",
       "      <td>0</td>\n",
       "      <td>0</td>\n",
       "    </tr>\n",
       "    <tr>\n",
       "      <th>4</th>\n",
       "      <td>Status</td>\n",
       "      <td>2/23/17 11:07 AM</td>\n",
       "      <td>0.0</td>\n",
       "      <td>0</td>\n",
       "      <td>0.0</td>\n",
       "      <td>0.0</td>\n",
       "      <td>0</td>\n",
       "      <td>0.0</td>\n",
       "      <td>0.0</td>\n",
       "      <td>0.0</td>\n",
       "      <td>...</td>\n",
       "      <td>NaN</td>\n",
       "      <td>NaN</td>\n",
       "      <td>NaN</td>\n",
       "      <td>NaN</td>\n",
       "      <td>NaN</td>\n",
       "      <td>NaN</td>\n",
       "      <td>NaN</td>\n",
       "      <td>NaN</td>\n",
       "      <td>0</td>\n",
       "      <td>0</td>\n",
       "    </tr>\n",
       "  </tbody>\n",
       "</table>\n",
       "<p>5 rows × 28 columns</p>\n",
       "</div>"
      ],
      "text/plain": [
       "     Type            Posted  Lifetime Post Total Reach  \\\n",
       "0    Link   2/28/17 2:30 PM                      939.0   \n",
       "1   Photo  2/28/17 12:02 PM                      854.0   \n",
       "2   Photo   2/27/17 9:17 AM                     2063.0   \n",
       "3  Status  2/23/17 11:12 AM                        9.0   \n",
       "4  Status  2/23/17 11:07 AM                        0.0   \n",
       "\n",
       "   Lifetime Post organic reach  Lifetime Post Paid Reach  \\\n",
       "0                          939                       0.0   \n",
       "1                          854                       0.0   \n",
       "2                         2063                       0.0   \n",
       "3                            9                       0.0   \n",
       "4                            0                       0.0   \n",
       "\n",
       "   Lifetime Post Total Impressions  Lifetime Post Organic Impressions  \\\n",
       "0                           1646.0                               1646   \n",
       "1                           1397.0                               1397   \n",
       "2                           3140.0                               3140   \n",
       "3                             16.0                                 16   \n",
       "4                              0.0                                  0   \n",
       "\n",
       "   Lifetime Post Paid Impressions  Lifetime Engaged Users  \\\n",
       "0                             0.0                    13.0   \n",
       "1                             0.0                    41.0   \n",
       "2                             0.0                    97.0   \n",
       "3                             0.0                     2.0   \n",
       "4                             0.0                     0.0   \n",
       "\n",
       "   Lifetime Post Consumers  ...  Lifetime Organic watches at 95%  \\\n",
       "0                      8.0  ...                              0.0   \n",
       "1                     23.0  ...                              NaN   \n",
       "2                     46.0  ...                              NaN   \n",
       "3                      2.0  ...                              NaN   \n",
       "4                      0.0  ...                              NaN   \n",
       "\n",
       "   Lifetime Organic watches at 95%.1  Lifetime Paid watches at 95%  \\\n",
       "0                                0.0                           0.0   \n",
       "1                                NaN                           NaN   \n",
       "2                                NaN                           NaN   \n",
       "3                                NaN                           NaN   \n",
       "4                                NaN                           NaN   \n",
       "\n",
       "   Lifetime Paid watches at 95%.1  Lifetime Organic Video Views  \\\n",
       "0                             0.0                           0.0   \n",
       "1                             NaN                           NaN   \n",
       "2                             NaN                           NaN   \n",
       "3                             NaN                           NaN   \n",
       "4                             NaN                           NaN   \n",
       "\n",
       "   Lifetime Organic Video Views.1  Lifetime Paid Video Views  \\\n",
       "0                             0.0                        0.0   \n",
       "1                             NaN                        NaN   \n",
       "2                             NaN                        NaN   \n",
       "3                             NaN                        NaN   \n",
       "4                             NaN                        NaN   \n",
       "\n",
       "   Lifetime Paid Video Views.1  Lifetime Average time video viewed  \\\n",
       "0                          0.0                                   0   \n",
       "1                          NaN                                   0   \n",
       "2                          NaN                                   0   \n",
       "3                          NaN                                   0   \n",
       "4                          NaN                                   0   \n",
       "\n",
       "   Lifetime Video length  \n",
       "0                      0  \n",
       "1                      0  \n",
       "2                      0  \n",
       "3                      0  \n",
       "4                      0  \n",
       "\n",
       "[5 rows x 28 columns]"
      ]
     },
     "execution_count": 35,
     "metadata": {},
     "output_type": "execute_result"
    }
   ],
   "source": [
    "post_data = pd.read_csv(\"data/POST Key Metrics.csv\")\n",
    "post_data.head()"
   ]
  },
  {
   "cell_type": "markdown",
   "metadata": {},
   "source": [
    "Counting the number of posts per type"
   ]
  },
  {
   "cell_type": "code",
   "execution_count": 36,
   "metadata": {},
   "outputs": [],
   "source": [
    "type_count = post_data.groupby('Type')['Posted'].nunique()"
   ]
  },
  {
   "cell_type": "code",
   "execution_count": 37,
   "metadata": {},
   "outputs": [
    {
     "data": {
      "text/plain": [
       "<matplotlib.axes._subplots.AxesSubplot at 0x159ac65ed30>"
      ]
     },
     "execution_count": 37,
     "metadata": {},
     "output_type": "execute_result"
    },
    {
     "data": {
      "image/png": "[encoded data removed]",
      "text/plain": [
       "<Figure size 432x288 with 1 Axes>"
      ]
     },
     "metadata": {
      "needs_background": "light"
     },
     "output_type": "display_data"
    }
   ],
   "source": [
    "type_count.plot.bar()"
   ]
  },
  {
   "cell_type": "markdown",
   "metadata": {},
   "source": [
    "From the chart, Link is the most used Post Type while there is only one Video post.\n",
    "\n",
    "Since there is only one video post, I'll drop the columns that pertains to video metrics. These are also listed as NaN on the rows that are non-video posts."
   ]
  },
  {
   "cell_type": "code",
   "execution_count": 38,
   "metadata": {},
   "outputs": [
    {
     "data": {
      "text/html": [
       "<div>\n",
       "<style scoped>\n",
       "    .dataframe tbody tr th:only-of-type {\n",
       "        vertical-align: middle;\n",
       "    }\n",
       "\n",
       "    .dataframe tbody tr th {\n",
       "        vertical-align: top;\n",
       "    }\n",
       "\n",
       "    .dataframe thead th {\n",
       "        text-align: right;\n",
       "    }\n",
       "</style>\n",
       "<table border=\"1\" class=\"dataframe\">\n",
       "  <thead>\n",
       "    <tr style=\"text-align: right;\">\n",
       "      <th></th>\n",
       "      <th>Type</th>\n",
       "      <th>Posted</th>\n",
       "      <th>Lifetime Post Total Reach</th>\n",
       "      <th>Lifetime Post organic reach</th>\n",
       "      <th>Lifetime Post Paid Reach</th>\n",
       "      <th>Lifetime Post Total Impressions</th>\n",
       "      <th>Lifetime Post Organic Impressions</th>\n",
       "      <th>Lifetime Post Paid Impressions</th>\n",
       "      <th>Lifetime Engaged Users</th>\n",
       "      <th>Lifetime Post Consumers</th>\n",
       "      <th>Lifetime Post Consumptions</th>\n",
       "      <th>Lifetime Negative feedback</th>\n",
       "      <th>Lifetime Negative Feedback from Users</th>\n",
       "      <th>Lifetime Post Impressions by people who have liked your Page</th>\n",
       "      <th>Lifetime Post reach by people who like your Page</th>\n",
       "      <th>Lifetime Post Paid Impressions by people who have liked your Page</th>\n",
       "      <th>Lifetime Paid reach of a post by people who like your Page</th>\n",
       "      <th>Lifetime People who have liked your Page and engaged with your post</th>\n",
       "    </tr>\n",
       "  </thead>\n",
       "  <tbody>\n",
       "    <tr>\n",
       "      <th>0</th>\n",
       "      <td>Link</td>\n",
       "      <td>2/28/17 2:30 PM</td>\n",
       "      <td>939.0</td>\n",
       "      <td>939</td>\n",
       "      <td>0.0</td>\n",
       "      <td>1646.0</td>\n",
       "      <td>1646</td>\n",
       "      <td>0.0</td>\n",
       "      <td>13.0</td>\n",
       "      <td>8.0</td>\n",
       "      <td>8.0</td>\n",
       "      <td>0.0</td>\n",
       "      <td>0.0</td>\n",
       "      <td>1576.0</td>\n",
       "      <td>901.0</td>\n",
       "      <td>0.0</td>\n",
       "      <td>0.0</td>\n",
       "      <td>13.0</td>\n",
       "    </tr>\n",
       "    <tr>\n",
       "      <th>1</th>\n",
       "      <td>Photo</td>\n",
       "      <td>2/28/17 12:02 PM</td>\n",
       "      <td>854.0</td>\n",
       "      <td>854</td>\n",
       "      <td>0.0</td>\n",
       "      <td>1397.0</td>\n",
       "      <td>1397</td>\n",
       "      <td>0.0</td>\n",
       "      <td>41.0</td>\n",
       "      <td>23.0</td>\n",
       "      <td>34.0</td>\n",
       "      <td>0.0</td>\n",
       "      <td>0.0</td>\n",
       "      <td>1152.0</td>\n",
       "      <td>679.0</td>\n",
       "      <td>0.0</td>\n",
       "      <td>0.0</td>\n",
       "      <td>36.0</td>\n",
       "    </tr>\n",
       "    <tr>\n",
       "      <th>2</th>\n",
       "      <td>Photo</td>\n",
       "      <td>2/27/17 9:17 AM</td>\n",
       "      <td>2063.0</td>\n",
       "      <td>2063</td>\n",
       "      <td>0.0</td>\n",
       "      <td>3140.0</td>\n",
       "      <td>3140</td>\n",
       "      <td>0.0</td>\n",
       "      <td>97.0</td>\n",
       "      <td>46.0</td>\n",
       "      <td>54.0</td>\n",
       "      <td>1.0</td>\n",
       "      <td>1.0</td>\n",
       "      <td>2106.0</td>\n",
       "      <td>1358.0</td>\n",
       "      <td>0.0</td>\n",
       "      <td>0.0</td>\n",
       "      <td>74.0</td>\n",
       "    </tr>\n",
       "    <tr>\n",
       "      <th>3</th>\n",
       "      <td>Status</td>\n",
       "      <td>2/23/17 11:12 AM</td>\n",
       "      <td>9.0</td>\n",
       "      <td>9</td>\n",
       "      <td>0.0</td>\n",
       "      <td>16.0</td>\n",
       "      <td>16</td>\n",
       "      <td>0.0</td>\n",
       "      <td>2.0</td>\n",
       "      <td>2.0</td>\n",
       "      <td>2.0</td>\n",
       "      <td>0.0</td>\n",
       "      <td>0.0</td>\n",
       "      <td>16.0</td>\n",
       "      <td>9.0</td>\n",
       "      <td>0.0</td>\n",
       "      <td>0.0</td>\n",
       "      <td>2.0</td>\n",
       "    </tr>\n",
       "    <tr>\n",
       "      <th>4</th>\n",
       "      <td>Status</td>\n",
       "      <td>2/23/17 11:07 AM</td>\n",
       "      <td>0.0</td>\n",
       "      <td>0</td>\n",
       "      <td>0.0</td>\n",
       "      <td>0.0</td>\n",
       "      <td>0</td>\n",
       "      <td>0.0</td>\n",
       "      <td>0.0</td>\n",
       "      <td>0.0</td>\n",
       "      <td>0.0</td>\n",
       "      <td>1.0</td>\n",
       "      <td>1.0</td>\n",
       "      <td>0.0</td>\n",
       "      <td>0.0</td>\n",
       "      <td>0.0</td>\n",
       "      <td>0.0</td>\n",
       "      <td>0.0</td>\n",
       "    </tr>\n",
       "  </tbody>\n",
       "</table>\n",
       "</div>"
      ],
      "text/plain": [
       "     Type            Posted  Lifetime Post Total Reach  \\\n",
       "0    Link   2/28/17 2:30 PM                      939.0   \n",
       "1   Photo  2/28/17 12:02 PM                      854.0   \n",
       "2   Photo   2/27/17 9:17 AM                     2063.0   \n",
       "3  Status  2/23/17 11:12 AM                        9.0   \n",
       "4  Status  2/23/17 11:07 AM                        0.0   \n",
       "\n",
       "   Lifetime Post organic reach  Lifetime Post Paid Reach  \\\n",
       "0                          939                       0.0   \n",
       "1                          854                       0.0   \n",
       "2                         2063                       0.0   \n",
       "3                            9                       0.0   \n",
       "4                            0                       0.0   \n",
       "\n",
       "   Lifetime Post Total Impressions  Lifetime Post Organic Impressions  \\\n",
       "0                           1646.0                               1646   \n",
       "1                           1397.0                               1397   \n",
       "2                           3140.0                               3140   \n",
       "3                             16.0                                 16   \n",
       "4                              0.0                                  0   \n",
       "\n",
       "   Lifetime Post Paid Impressions  Lifetime Engaged Users  \\\n",
       "0                             0.0                    13.0   \n",
       "1                             0.0                    41.0   \n",
       "2                             0.0                    97.0   \n",
       "3                             0.0                     2.0   \n",
       "4                             0.0                     0.0   \n",
       "\n",
       "   Lifetime Post Consumers  Lifetime Post Consumptions  \\\n",
       "0                      8.0                         8.0   \n",
       "1                     23.0                        34.0   \n",
       "2                     46.0                        54.0   \n",
       "3                      2.0                         2.0   \n",
       "4                      0.0                         0.0   \n",
       "\n",
       "   Lifetime Negative feedback  Lifetime Negative Feedback from Users  \\\n",
       "0                         0.0                                    0.0   \n",
       "1                         0.0                                    0.0   \n",
       "2                         1.0                                    1.0   \n",
       "3                         0.0                                    0.0   \n",
       "4                         1.0                                    1.0   \n",
       "\n",
       "   Lifetime Post Impressions by people who have liked your Page  \\\n",
       "0                                             1576.0              \n",
       "1                                             1152.0              \n",
       "2                                             2106.0              \n",
       "3                                               16.0              \n",
       "4                                                0.0              \n",
       "\n",
       "   Lifetime Post reach by people who like your Page  \\\n",
       "0                                             901.0   \n",
       "1                                             679.0   \n",
       "2                                            1358.0   \n",
       "3                                               9.0   \n",
       "4                                               0.0   \n",
       "\n",
       "   Lifetime Post Paid Impressions by people who have liked your Page  \\\n",
       "0                                                0.0                   \n",
       "1                                                0.0                   \n",
       "2                                                0.0                   \n",
       "3                                                0.0                   \n",
       "4                                                0.0                   \n",
       "\n",
       "   Lifetime Paid reach of a post by people who like your Page  \\\n",
       "0                                                0.0            \n",
       "1                                                0.0            \n",
       "2                                                0.0            \n",
       "3                                                0.0            \n",
       "4                                                0.0            \n",
       "\n",
       "   Lifetime People who have liked your Page and engaged with your post  \n",
       "0                                               13.0                    \n",
       "1                                               36.0                    \n",
       "2                                               74.0                    \n",
       "3                                                2.0                    \n",
       "4                                                0.0                    "
      ]
     },
     "execution_count": 38,
     "metadata": {},
     "output_type": "execute_result"
    }
   ],
   "source": [
    "post_data = post_data.drop(post_data.columns[18:], axis=1)\n",
    "post_data.head()"
   ]
  },
  {
   "cell_type": "code",
   "execution_count": 81,
   "metadata": {},
   "outputs": [
    {
     "data": {
      "text/plain": [
       "Text(0.5, 1.0, 'Lifetime Post Total Reach of Each Post')"
      ]
     },
     "execution_count": 81,
     "metadata": {},
     "output_type": "execute_result"
    },
    {
     "data": {
      "image/png": "[encoded data removed]",
      "text/plain": [
       "<Figure size 1440x720 with 1 Axes>"
      ]
     },
     "metadata": {
      "needs_background": "light"
     },
     "output_type": "display_data"
    }
   ],
   "source": [
    "types = ['Link', 'Photo', 'Status', 'Video']\n",
    "colors = ['#009ddc', '#001f54','#001f54', '#009b72']\n",
    "typecolor = dict(zip(types, colors))\n",
    "\n",
    "ax = post_data.plot(kind='bar', y='Lifetime Post Total Reach'\n",
    "                    ,color = ['#009ddc', '#001f54','#001f54', '#009b72']\n",
    "                    ,figsize=(20,10)\n",
    "                    ,legend=False)\n",
    "\n",
    "plt.ylabel(\"Lifetime Post Total Reach\")\n",
    "plt.title(\"Lifetime Post Total Reach of Each Post\")"
   ]
  },
  {
   "cell_type": "markdown",
   "metadata": {},
   "source": [
    "#### Taking the average Post Total Reach by Type\n",
    "\n",
    "Taking the average of the metrics per type of post will eliminate the bias of simply taking the total of the numbers per type of post."
   ]
  },
  {
   "cell_type": "code",
   "execution_count": 87,
   "metadata": {},
   "outputs": [
    {
     "data": {
      "text/plain": [
       "Text(0.5, 1.0, 'Average Lifetime Post Total Reach by Type')"
      ]
     },
     "execution_count": 87,
     "metadata": {},
     "output_type": "execute_result"
    },
    {
     "data": {
      "image/png": "[encoded data removed]",
      "text/plain": [
       "<Figure size 1080x720 with 1 Axes>"
      ]
     },
     "metadata": {
      "needs_background": "light"
     },
     "output_type": "display_data"
    }
   ],
   "source": [
    "ave_totalreach = post_data.groupby(['Type'])['Lifetime Post Total Reach'].agg(['mean'])\n",
    "ave_totalreach = ave_totalreach.sort_values(by='mean', ascending=False)\n",
    "ave_totalreach.plot(kind='bar', figsize=(15,10), legend=False, color = '#4e937a', rot=0)\n",
    "\n",
    "plt.ylabel('Lifetime Post Total Reach')\n",
    "plt.title(\"Average Lifetime Post Total Reach by Type\")"
   ]
  },
  {
   "cell_type": "markdown",
   "metadata": {},
   "source": [
    "From this chart, we can see that Photos have the highest average reach despite Links the mostly shared type. Let's look at the averages of the other metrics"
   ]
  },
  {
   "cell_type": "code",
   "execution_count": 98,
   "metadata": {},
   "outputs": [],
   "source": [
    "ave_impressions = post_data.groupby(['Type'])['Lifetime Post Total Impressions'].agg(['mean'])\n",
    "ave_impressions = ave_impressions.sort_values(by='mean', ascending=False)\n",
    "\n",
    "engaged_users = post_data.groupby(['Type'])['Lifetime Engaged Users'].agg(['mean'])\n",
    "engaged_users = engaged_users.sort_values(by='mean', ascending=False)\n",
    "\n",
    "reach_fan = post_data.groupby(['Type'])['Lifetime Post reach by people who like your Page'].agg(['mean'])\n",
    "reach_fan = reach_fan.sort_values(by='mean', ascending=False)\n",
    "\n",
    "fan_engage = post_data.groupby(['Type'])['Lifetime People who have liked your Page and engaged with your post'].agg(['mean'])\n",
    "fan_engage = fan_engage.sort_values(by='mean', ascending=False)\n"
   ]
  },
  {
   "cell_type": "code",
   "execution_count": 107,
   "metadata": {},
   "outputs": [
    {
     "data": {
      "text/plain": [
       "<matplotlib.axes._subplots.AxesSubplot at 0x159b11a4320>"
      ]
     },
     "execution_count": 107,
     "metadata": {},
     "output_type": "execute_result"
    },
    {
     "data": {
      "image/png": "[encoded data removed]",
      "text/plain": [
       "<Figure size 1080x720 with 4 Axes>"
      ]
     },
     "metadata": {
      "needs_background": "light"
     },
     "output_type": "display_data"
    }
   ],
   "source": [
    "fig, axes = plt.subplots(nrows=2, ncols=2)\n",
    "\n",
    "ave_impressions.plot(kind='bar', \n",
    "                     figsize=(15,10), \n",
    "                     legend=False, \n",
    "                     color = '#4e937a', \n",
    "                     rot=0, \n",
    "                     ax=axes[0,0], \n",
    "                     title='Average Post Total Impressions by Type')\n",
    "\n",
    "engaged_users.plot(kind='bar', \n",
    "                   figsize=(15,10), \n",
    "                   legend=False, \n",
    "                   color = '#4e937a', \n",
    "                   rot=0, \n",
    "                   ax=axes[0,1], \n",
    "                   title='Average Engaged Users by Type')\n",
    "\n",
    "reach_fan.plot(kind='bar', \n",
    "               figsize=(15,10), \n",
    "               legend=False, \n",
    "               color = '#4e937a', \n",
    "               rot=0, \n",
    "               ax=axes[1,0], \n",
    "               title='Average Post reach by people who like your Page by Type')\n",
    "\n",
    "fan_engage.plot(kind='bar', \n",
    "                figsize=(15,10), \n",
    "                legend=False, \n",
    "                color = '#4e937a', \n",
    "                rot=0, \n",
    "                ax=axes[1,1], \n",
    "                title='Average People who have liked your Page and engaged with your post by Type')\n"
   ]
  },
  {
   "cell_type": "markdown",
   "metadata": {},
   "source": []
  }
 ],
 "metadata": {
  "kernelspec": {
   "display_name": "Python 3",
   "language": "python",
   "name": "python3"
  },
  "language_info": {
   "codemirror_mode": {
    "name": "ipython",
    "version": 3
   },
   "file_extension": ".py",
   "mimetype": "text/x-python",
   "name": "python",
   "nbconvert_exporter": "python",
   "pygments_lexer": "ipython3",
   "version": "3.7.3"
  }
 },
 "nbformat": 4,
 "nbformat_minor": 2
}
